{
 "cells": [
  {
   "cell_type": "code",
   "execution_count": 1,
   "metadata": {},
   "outputs": [],
   "source": [
    "import cv2\n",
    "import numpy as np\n",
    "from os.path import dirname, join\n",
    "import os"
   ]
  },
  {
   "cell_type": "code",
   "execution_count": 2,
   "metadata": {},
   "outputs": [],
   "source": [
    "def initialize_caffe_model():\n",
    "    protoPathage = os.path.sep.join([r\"E:\\cs_life\\ml_ai\\age_gender_classification\\codes\",  \"deploy_age.prototxt\"])\n",
    "    modelPathage = os.path.sep.join([r\"E:\\cs_life\\ml_ai\\age_gender_classification\\codes\",\"age_net.caffemodel\"])\n",
    "\n",
    "    protoPathgender = os.path.sep.join([r\"E:\\cs_life\\ml_ai\\age_gender_classification\\codes\",  \"deploy_gender.prototxt\"])\n",
    "    modelPathgender = os.path.sep.join([r\"E:\\cs_life\\ml_ai\\age_gender_classification\\codes\",\"gender_net.caffemodel\"])\n",
    "\n",
    "    age_net = cv2.dnn.readNetFromCaffe(protoPathage,modelPathage)\n",
    "    gender_net = cv2.dnn.readNetFromCaffe(protoPathgender,modelPathgender)\n",
    "    \n",
    "    return (age_net, gender_net)\n",
    "\n"
   ]
  },
  {
   "cell_type": "code",
   "execution_count": 3,
   "metadata": {},
   "outputs": [],
   "source": [
    "def capture_loop(age_net, gender_net,image): \n",
    "    \n",
    "    MODEL_MEAN_VALUES = (78.4263377603, 87.7689143744, 114.895847746)\n",
    "    age_list = ['(0, 2)', '(4, 6)', '(8, 12)', '(15, 20)', '(25, 32)', '(38, 43)', '(48, 53)', '(60, 100)']\n",
    "    gender_list = ['Male', 'Female']\n",
    "\n",
    "    face_cascade_path = os.path.sep.join([r\"E:\\cs_life\\ml_ai\\age_gender_classification\\codes\\haarcascade\",  \"haarcascade_frontalface_default.xml\"])\n",
    "    face_cascade = cv2.CascadeClassifier(face_cascade_path)\n",
    "\n",
    "    \n",
    "    imgGray = cv2.cvtColor(image, cv2.COLOR_BGR2GRAY)\n",
    "    faces = face_cascade.detectMultiScale(imgGray, 1.2 , 2)\n",
    "\n",
    "    for (x,y,w,h) in faces:\n",
    "            cv2.rectangle(image, (x,y),(x+w,y+h),(0,0,255),2)\n",
    "\n",
    "            imgFace = image[y:y+h,x:x+w].copy() # nurel network is only support for 3 chanel data\n",
    "            blob = cv2.dnn.blobFromImage(imgFace, 1, (227, 227), MODEL_MEAN_VALUES, swapRB=False) \n",
    "            # Binary Large Object ---> blob\n",
    "\n",
    "            #predict age\n",
    "            age_net.setInput(blob)\n",
    "            age_pred = age_net.forward()\n",
    "            age = age_list[age_pred[0].argmax()]\n",
    "            print(age)\n",
    "\n",
    "            # predit gender\n",
    "            gender_net.setInput(blob)\n",
    "            gender_pred = gender_net.forward()\n",
    "            gender = gender_list[gender_pred[0].argmax()]\n",
    "            print(gender)\n",
    "            \n",
    "            \n",
    "\n",
    "            full_text = age + \" \" + gender\n",
    "            cv2.putText(image,full_text, (x,y) , cv2.FONT_HERSHEY_COMPLEX, 0.5, (255,0,0), 1)\n",
    "\n",
    "\n",
    "    image_edited = cv2.resize(image, (400, 400))      \n",
    "    cv2.imshow(\"Video\" , image_edited)\n",
    "    cv2.waitKey(0)\n",
    "    cv2.destroyAllWindows()\n",
    "    return (age,gender)\n",
    "    \n",
    "\n"
   ]
  },
  {
   "cell_type": "code",
   "execution_count": 4,
   "metadata": {},
   "outputs": [
    {
     "name": "stdout",
     "output_type": "stream",
     "text": [
      "(25, 32)\n",
      "Male\n",
      "Test passed!\n",
      "(25, 32)\n",
      "Female\n",
      "Test passed!\n",
      "('(25, 32)', 'Female')\n"
     ]
    }
   ],
   "source": [
    "if __name__ == '__main__':\n",
    "    age_net, gender_net = initialize_caffe_model()\n",
    "    image = cv2.imread(r\"E:\\cs_life\\ml_ai\\age_gender_classification\\codes\\sample_photos\\peop2_9.jpg\")\n",
    "    print(capture_loop(age_net, gender_net,image))\n",
    "    "
   ]
  },
  {
   "cell_type": "code",
   "execution_count": null,
   "metadata": {},
   "outputs": [],
   "source": []
  }
 ],
 "metadata": {
  "kernelspec": {
   "display_name": "Python 3",
   "language": "python",
   "name": "python3"
  },
  "language_info": {
   "codemirror_mode": {
    "name": "ipython",
    "version": 3
   },
   "file_extension": ".py",
   "mimetype": "text/x-python",
   "name": "python",
   "nbconvert_exporter": "python",
   "pygments_lexer": "ipython3",
   "version": "3.8.3"
  }
 },
 "nbformat": 4,
 "nbformat_minor": 2
}
